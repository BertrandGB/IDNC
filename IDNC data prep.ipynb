{
 "cells": [
  {
   "cell_type": "code",
   "execution_count": null,
   "metadata": {},
   "outputs": [],
   "source": [
    "from IPython.display import HTML\n",
    "HTML('''<script>\n",
    "code_show=true; \n",
    "function code_toggle() {\n",
    " if (code_show){\n",
    " $('div.input').hide();\n",
    " $('div.prompt').hide();\n",
    " document.getElementById(\"clicker\").innerHTML='report layout';\n",
    " } else {\n",
    " $('div.input').show();\n",
    " $('div.prompt').show();\n",
    " document.getElementById(\"clicker\").innerHTML='developer layout';\n",
    " }\n",
    " code_show = !code_show\n",
    "} \n",
    "$( document ).ready(code_toggle);\n",
    "</script>\n",
    "<center><a href=\"javascript:code_toggle()\"><span id=clicker>developer layout</span></a></center>''')"
   ]
  },
  {
   "cell_type": "code",
   "execution_count": null,
   "metadata": {},
   "outputs": [],
   "source": [
    "import os, shutil\n",
    "import pandas as pd\n",
    "\n",
    "startdir=os.getcwd()\n",
    "print(startdir)\n"
   ]
  },
  {
   "cell_type": "code",
   "execution_count": null,
   "metadata": {},
   "outputs": [],
   "source": [
    "os.chdir('/Users/BertrandGB/Workspace/Electrolux/month_predictions/')\n"
   ]
  },
  {
   "cell_type": "code",
   "execution_count": null,
   "metadata": {},
   "outputs": [],
   "source": [
    "cd Programming/Feature\\ bogging"
   ]
  },
  {
   "cell_type": "code",
   "execution_count": null,
   "metadata": {},
   "outputs": [],
   "source": []
  },
  {
   "cell_type": "code",
   "execution_count": null,
   "metadata": {},
   "outputs": [],
   "source": []
  },
  {
   "cell_type": "code",
   "execution_count": null,
   "metadata": {},
   "outputs": [],
   "source": [
    "#creation des dates existantes\n",
    "list = os.listdir(os.getcwd())\n",
    "photoexistSet=[]\n",
    "for line in list :\n",
    "    if line[-8:]==\"nail.jpg\" :\n",
    "        if os.path.getsize(line) < 80000:\n",
    "            print line\n",
    "            photoexistSet.append(line[:-14])\n",
    "\n",
    "print list\n",
    "print photoexistSet\n",
    "print len(photoexistSet)"
   ]
  },
  {
   "cell_type": "code",
   "execution_count": null,
   "metadata": {},
   "outputs": [],
   "source": [
    "n=1\n",
    "for line in photoexistSet:\n",
    "    if  os.path.exists(line+\"1.jpg\") :\n",
    "        print n,\"  \",line,\" verified\"\n",
    "        n=n+1\n",
    "        shutil.copyfile(line+\".jpg\",line+\"2.jpg\")\n",
    "        print line+\"2.jpg created\""
   ]
  },
  {
   "cell_type": "code",
   "execution_count": null,
   "metadata": {},
   "outputs": [],
   "source": [
    "n=1\n",
    "for line in photoexistSet:\n",
    "    if  not(os.path.exists(line+\"1.jpg\")) :\n",
    "        print n,\"  \",line,\" has no starter photo\"\n",
    "        n=n+1\n",
    "        shutil.copyfile(line+\".jpg\",line+\"1.jpg\")\n",
    "        print line+\"1.jpg created\""
   ]
  },
  {
   "cell_type": "code",
   "execution_count": null,
   "metadata": {},
   "outputs": [],
   "source": [
    "#mettre à jour le fichier data.json en fonction de l'existence des fichiers photos\n",
    "#pour cela, prendre la liste"
   ]
  },
  {
   "cell_type": "code",
   "execution_count": null,
   "metadata": {},
   "outputs": [],
   "source": [
    "listfile=[]\n",
    "for file in os.listdir(os.getcwd()):\n",
    "    if len(file)==20:\n",
    "        listfile.append(file)"
   ]
  },
  {
   "cell_type": "code",
   "execution_count": null,
   "metadata": {},
   "outputs": [],
   "source": [
    "with open(\"../photolist.txt\", 'w') as output:\n",
    "    for line in listfile:\n",
    "        output.write('\"'+line+'\",\\n')\n",
    "output.close()"
   ]
  },
  {
   "cell_type": "code",
   "execution_count": null,
   "metadata": {},
   "outputs": [],
   "source": [
    "listfile.sort()"
   ]
  },
  {
   "cell_type": "code",
   "execution_count": null,
   "metadata": {},
   "outputs": [],
   "source": [
    "listfile"
   ]
  },
  {
   "cell_type": "code",
   "execution_count": null,
   "metadata": {},
   "outputs": [],
   "source": []
  },
  {
   "cell_type": "code",
   "execution_count": null,
   "metadata": {},
   "outputs": [],
   "source": []
  },
  {
   "cell_type": "code",
   "execution_count": null,
   "metadata": {},
   "outputs": [],
   "source": []
  },
  {
   "cell_type": "code",
   "execution_count": null,
   "metadata": {},
   "outputs": [],
   "source": []
  },
  {
   "cell_type": "code",
   "execution_count": null,
   "metadata": {},
   "outputs": [],
   "source": []
  },
  {
   "cell_type": "code",
   "execution_count": null,
   "metadata": {},
   "outputs": [],
   "source": []
  },
  {
   "cell_type": "code",
   "execution_count": null,
   "metadata": {},
   "outputs": [],
   "source": []
  },
  {
   "cell_type": "code",
   "execution_count": null,
   "metadata": {},
   "outputs": [],
   "source": []
  },
  {
   "cell_type": "code",
   "execution_count": null,
   "metadata": {},
   "outputs": [],
   "source": []
  },
  {
   "cell_type": "code",
   "execution_count": null,
   "metadata": {},
   "outputs": [],
   "source": []
  },
  {
   "cell_type": "code",
   "execution_count": null,
   "metadata": {},
   "outputs": [],
   "source": [
    "listfile=[]\n",
    "for file in os.listdir(os.getcwd()):\n",
    "    if len(file)==20:\n",
    "        listfile.append(file)"
   ]
  },
  {
   "cell_type": "code",
   "execution_count": null,
   "metadata": {},
   "outputs": [],
   "source": [
    "dico2={}\n",
    "for line in listfile:\n",
    "    dico2.add(line)\n",
    "dico1\n",
    "    "
   ]
  },
  {
   "cell_type": "code",
   "execution_count": null,
   "metadata": {},
   "outputs": [],
   "source": [
    "print len(\"08-12-2018 MIDI2.jpg\")"
   ]
  },
  {
   "cell_type": "code",
   "execution_count": null,
   "metadata": {},
   "outputs": [],
   "source": [
    "shutil.copyfile(\"../data.json\",\"data.json.bckp\")"
   ]
  },
  {
   "cell_type": "code",
   "execution_count": null,
   "metadata": {},
   "outputs": [],
   "source": [
    "import json\n",
    "\n",
    "ejeson=[]\n",
    "listdir=os.listdir(os.getcwd())\n",
    "with open(\"../data.json\") as json_file:\n",
    "    json = json.load(json_file)\n",
    "\n",
    "for line in json:\n",
    "    newline=line\n",
    "    for file in listdir:\n",
    "        date= file[:-5]\n",
    "        if newline['date']==date:\n",
    "            newline\n",
    "    if line['date']==date:\n",
    "            print date,\" match!\n",
    "for file in os.listdir(os.getcwd()):\n",
    "    if len(file)==20:\n",
    "        print \"adding \",file\n",
    "        date= file[:-5]\n",
    "        print date\n",
    "        \"\n",
    "                \n",
    "        "
   ]
  },
  {
   "cell_type": "code",
   "execution_count": null,
   "metadata": {},
   "outputs": [],
   "source": []
  },
  {
   "cell_type": "code",
   "execution_count": null,
   "metadata": {},
   "outputs": [],
   "source": [
    "#création des smaller files\n",
    "import shutil, os\n",
    "from PIL import Image\n",
    "\n",
    "\n",
    "for infile in os.listdir(os.getcwd()):\n",
    "    if os.path.getsize(infile) > 1000000 :\n",
    "        print \"Shrinking \", infile,\"    \", os.path.getsize(infile)\n",
    "        try:\n",
    "            im = Image.open(infile)\n",
    "            out=im.resize((1200,900))\n",
    "            out.save(infile, \"JPEG\")\n",
    "        except IOError:\n",
    "            print \"cannot shrink '%s'\" % infil\n",
    "   "
   ]
  },
  {
   "cell_type": "code",
   "execution_count": null,
   "metadata": {},
   "outputs": [],
   "source": [
    "#création des thumbnails\n",
    "\n",
    "from PIL import Image\n",
    "\n",
    "\n",
    "for infile in os.listdir(os.getcwd()):\n",
    "    print \"Fichier parsé = \", infile,\"   \",len(infile)\n",
    "   \n",
    "    if len(infile)==19:\n",
    "        outfile=infile[:-4]+\"-thumbnail.jpg\"\n",
    "        print \"creating \",outfile\n",
    "        try:\n",
    "            im = Image.open(infile)\n",
    "            out=im.resize((400,300))\n",
    "            out.save(outfile, \"JPEG\")\n",
    "        except IOError:\n",
    "            print \"cannot create thumbnail for '%s'\" % infile\n",
    "        "
   ]
  },
  {
   "cell_type": "code",
   "execution_count": null,
   "metadata": {},
   "outputs": [],
   "source": [
    "pwd\n"
   ]
  },
  {
   "cell_type": "code",
   "execution_count": null,
   "metadata": {},
   "outputs": [],
   "source": [
    "for infile in os.listdir(os.getcwd()):\n",
    "    if infile[-8:]=='nail.jpg' :\n",
    "        print infile\n",
    "        os.remove(infile)"
   ]
  },
  {
   "cell_type": "code",
   "execution_count": null,
   "metadata": {},
   "outputs": [],
   "source": [
    "list = os.listdir(os.getcwd())\n",
    "set=[]\n",
    "for line in list :\n",
    "    line=line[:2]\n",
    "    print line\n",
    "    set.append(line)\n",
    "print list\n",
    "print set\n"
   ]
  },
  {
   "cell_type": "code",
   "execution_count": null,
   "metadata": {},
   "outputs": [],
   "source": [
    "#Selection des MIDI\n",
    "list = os.listdir(os.getcwd())\n",
    "midiset=[]\n",
    "for line in list :\n",
    "    if line[-8:]==\"MIDI.jpg\" :\n",
    "        line=line[:2]\n",
    "        print line\n",
    "        midiset.append(line)\n",
    "print list\n",
    "print midiset\n"
   ]
  },
  {
   "cell_type": "code",
   "execution_count": null,
   "metadata": {},
   "outputs": [],
   "source": [
    "#Selection des SOIR\n",
    "list = os.listdir(os.getcwd())\n",
    "soirset=[]\n",
    "for line in list :\n",
    "    if line[-8:]==\"SOIR.jpg\" :\n",
    "        line=line[:2]\n",
    "        print line\n",
    "        soirset.append(line)\n",
    "print list\n",
    "print soirset"
   ]
  },
  {
   "cell_type": "code",
   "execution_count": null,
   "metadata": {
    "scrolled": true
   },
   "outputs": [],
   "source": [
    "#creation des empty MIDI\n",
    "\n",
    "import shutil\n",
    "\n",
    "for i in range(1,20):\n",
    "    s=str(i)\n",
    "    if len(s)==1:\n",
    "        s=\"0\"+s\n",
    "    print s\n",
    "    if s not in midiset:\n",
    "        print s+ \" doesn't exist\"\n",
    "        shutil.copyfile('Plate.jpg', s+'-12-2018 MIDI-thumbnail.jpg')  "
   ]
  },
  {
   "cell_type": "code",
   "execution_count": null,
   "metadata": {},
   "outputs": [],
   "source": [
    "#creation des empty MIDI\n",
    "\n",
    "import shutil\n",
    "\n",
    "for i in range(28,31):\n",
    "    shutil.copyfile('Plate.jpg', str(i)+'-11-2018 MIDI-thumbnail.jpg') \n",
    "    print str(i)+'-11-2018 MIDI-thumbnail.jpg'"
   ]
  },
  {
   "cell_type": "code",
   "execution_count": null,
   "metadata": {},
   "outputs": [],
   "source": [
    "#creation des empty SOIR\n",
    "\n",
    "import shutil\n",
    "\n",
    "for i in range(1,20):\n",
    "    s=str(i)\n",
    "    if len(s)==1:\n",
    "        s=\"0\"+s\n",
    "    print s\n",
    "    if s not in soirset:\n",
    "        print s+ \" doesn't exist\"\n",
    "        shutil.copyfile('Plate.jpg', s+'-12-2018 SOIR-thumbnail.jpg')  "
   ]
  },
  {
   "cell_type": "code",
   "execution_count": null,
   "metadata": {},
   "outputs": [],
   "source": [
    "import os, sys\n",
    "import Image\n",
    "\n",
    "size = 128, 128\n",
    "\n",
    "for infile in sys.argv[1:]:\n",
    "    outfile = os.path.splitext(infile)[0] + \".thumbnail\"\n",
    "    if infile != outfile:\n",
    "        try:\n",
    "            im = Image.open(infile)\n",
    "            im.thumbnail(size, Image.ANTIALIAS)\n",
    "            im.save(outfile, \"JPEG\")\n",
    "        except IOError:\n",
    "            print \"cannot create thumbnail for '%s'\" % infile"
   ]
  },
  {
   "cell_type": "code",
   "execution_count": null,
   "metadata": {},
   "outputs": [],
   "source": [
    "pwd"
   ]
  },
  {
   "cell_type": "code",
   "execution_count": null,
   "metadata": {},
   "outputs": [],
   "source": [
    "cd img\n"
   ]
  },
  {
   "cell_type": "code",
   "execution_count": null,
   "metadata": {},
   "outputs": [],
   "source": [
    "import os, sys\n",
    "import image"
   ]
  },
  {
   "cell_type": "code",
   "execution_count": null,
   "metadata": {},
   "outputs": [],
   "source": [
    "sys.argv[1:]"
   ]
  },
  {
   "cell_type": "code",
   "execution_count": null,
   "metadata": {},
   "outputs": [],
   "source": []
  },
  {
   "cell_type": "code",
   "execution_count": null,
   "metadata": {},
   "outputs": [],
   "source": []
  },
  {
   "cell_type": "code",
   "execution_count": null,
   "metadata": {},
   "outputs": [],
   "source": []
  },
  {
   "cell_type": "code",
   "execution_count": null,
   "metadata": {},
   "outputs": [],
   "source": []
  },
  {
   "cell_type": "code",
   "execution_count": null,
   "metadata": {},
   "outputs": [],
   "source": [
    "ls\n"
   ]
  },
  {
   "cell_type": "code",
   "execution_count": null,
   "metadata": {},
   "outputs": [],
   "source": [
    "ls -al"
   ]
  },
  {
   "cell_type": "code",
   "execution_count": null,
   "metadata": {},
   "outputs": [],
   "source": [
    "# affiche les \"NLignes\" premières lignes d'un fichier\n",
    "\n",
    "NLignes = 10\n",
    "file=open('menu5.txt','r')\n",
    "for x in range(0, NLignes):\n",
    "    print('Line %d -------------------------------------------------------------') % (x)\n",
    "    line = file.readline()\n",
    "    print(line)\n",
    "file.close()"
   ]
  },
  {
   "cell_type": "code",
   "execution_count": null,
   "metadata": {},
   "outputs": [],
   "source": [
    "Inputfile=open('menu5.txt','r') #ouvre le fichier Inputfile en lecture seule\n",
    "Outputfilename ='menu5.json'               #donne le nom du fichier de sortie"
   ]
  },
  {
   "cell_type": "code",
   "execution_count": null,
   "metadata": {},
   "outputs": [],
   "source": [
    "line=Inputfile.readline();\n",
    "print line;"
   ]
  },
  {
   "cell_type": "code",
   "execution_count": null,
   "metadata": {},
   "outputs": [],
   "source": [
    "print (line[3]);\n"
   ]
  },
  {
   "cell_type": "code",
   "execution_count": null,
   "metadata": {},
   "outputs": [],
   "source": []
  },
  {
   "cell_type": "code",
   "execution_count": null,
   "metadata": {},
   "outputs": [],
   "source": [
    "print(line);"
   ]
  },
  {
   "cell_type": "code",
   "execution_count": null,
   "metadata": {},
   "outputs": [],
   "source": [
    "line=line.decode('utf-8','ignore')\n"
   ]
  },
  {
   "cell_type": "code",
   "execution_count": null,
   "metadata": {},
   "outputs": [],
   "source": [
    "print line;\n"
   ]
  },
  {
   "cell_type": "code",
   "execution_count": null,
   "metadata": {},
   "outputs": [],
   "source": []
  },
  {
   "cell_type": "code",
   "execution_count": null,
   "metadata": {},
   "outputs": [],
   "source": []
  },
  {
   "cell_type": "code",
   "execution_count": null,
   "metadata": {},
   "outputs": [],
   "source": [
    "BC = pd.read_csv('./SalesData2_plus_jan_18.csv',sep=';')"
   ]
  },
  {
   "cell_type": "code",
   "execution_count": null,
   "metadata": {},
   "outputs": [],
   "source": [
    "BC.head(1000)\n"
   ]
  },
  {
   "cell_type": "code",
   "execution_count": null,
   "metadata": {},
   "outputs": [],
   "source": [
    "#commande pour sélectionner son directory de travail\n",
    "os.chdir('/Users/BertrandGB/Dropbox (PredicSis)/')\n",
    "print(os.getcwd())\n",
    "print'-------'\n",
    "os.listdir('.')"
   ]
  },
  {
   "cell_type": "code",
   "execution_count": null,
   "metadata": {},
   "outputs": [],
   "source": [
    "# affiche la première ligne d'un fichier\n",
    "\n",
    "file=open('Customers_CENTRAL_TRAIN.csv','r')\n",
    "line = file.readline()\n",
    "file.close()\n",
    "line"
   ]
  },
  {
   "cell_type": "code",
   "execution_count": null,
   "metadata": {},
   "outputs": [],
   "source": [
    "# affiche la première ligne d'un fichier\n",
    "\n",
    "file=open('EmailCampaign_TEST.csv','r')\n",
    "line = file.readline()\n",
    "file.close()\n",
    "line"
   ]
  },
  {
   "cell_type": "code",
   "execution_count": null,
   "metadata": {},
   "outputs": [],
   "source": [
    "# affiche les \"NLignes\" premières lignes d'un fichier\n",
    "\n",
    "NLignes = 10\n",
    "file=open('EmailCampaign_TRAIN.csv','r')\n",
    "for x in range(0, NLignes):\n",
    "    print('Line %d -------------------------------------------------------------') % (x)\n",
    "    line = file.readline()\n",
    "    print(line)\n",
    "file.close()"
   ]
  },
  {
   "cell_type": "code",
   "execution_count": null,
   "metadata": {},
   "outputs": [],
   "source": [
    "import pandas"
   ]
  },
  {
   "cell_type": "code",
   "execution_count": null,
   "metadata": {},
   "outputs": [],
   "source": [
    "Web_file=open('./Customers_CENTRAL_TRAIN.csv','r')\n",
    "Web_data=pandas.read_csv(Web_file,sep='|')\n"
   ]
  },
  {
   "cell_type": "code",
   "execution_count": null,
   "metadata": {},
   "outputs": [],
   "source": [
    "Web_data.count()"
   ]
  },
  {
   "cell_type": "markdown",
   "metadata": {},
   "source": [
    "# Stock de procedures"
   ]
  },
  {
   "cell_type": "code",
   "execution_count": null,
   "metadata": {},
   "outputs": [],
   "source": [
    "Inputfile=open('out_CENTRAL_TEST.csv','r') #ouvre le fichier Inputfile en lecture seule\n",
    "Outputfilename ='output.csv'               #donne le nom du fichier de sortie"
   ]
  },
  {
   "cell_type": "code",
   "execution_count": null,
   "metadata": {},
   "outputs": [],
   "source": [
    "#Supprime les non-UTF8\n",
    "\n",
    "Inputfilename = 'menu4.txt'     #donne le nom du fichier d'entrée\n",
    "Outputfilename ='menu5.txt'               #donne le nom du fichier de sortie\n",
    "\n",
    "Inputfile=open(Inputfilename,'r')          #ouvre le fichier Inputfile en lecture seule\n",
    "\n",
    "with open(Outputfilename, 'w') as output:\n",
    "    for line in Inputfile:\n",
    "        line=line.decode('utf-8','ignore')\n",
    "        output.write(line)\n",
    "output.close()"
   ]
  },
  {
   "cell_type": "code",
   "execution_count": null,
   "metadata": {},
   "outputs": [],
   "source": [
    "# affiche la première ligne d'un fichier\n",
    "\n",
    "file=open('output.csv','r')\n",
    "line = file.readline()\n",
    "file.close()\n",
    "line"
   ]
  },
  {
   "cell_type": "code",
   "execution_count": null,
   "metadata": {},
   "outputs": [],
   "source": [
    "line.replace(';','|')\n"
   ]
  },
  {
   "cell_type": "code",
   "execution_count": null,
   "metadata": {},
   "outputs": [],
   "source": [
    "# affiche les \"NLignes\" premières lignes d'un fichier\n",
    "\n",
    "NLignes = 10\n",
    "file=open('output.csv','r')\n",
    "for x in range(0, NLignes):\n",
    "    print('Line %d -------------------------------------------------------------') % (x)\n",
    "    line = file.readline()\n",
    "    print(line)\n",
    "file.close()\n"
   ]
  },
  {
   "cell_type": "code",
   "execution_count": null,
   "metadata": {},
   "outputs": [],
   "source": [
    "# remplace un caractère délimiteur par un autre\n",
    "\n",
    "Inputfilename = './VisitedPages_TEST.csv'     #donne le nom du fichier d'entrée\n",
    "Outputfilename ='./WEB_TEST.txt'               #donne le nom du fichier de sortie\n",
    "\n",
    "Inputfile=open(Inputfilename,'r')          #ouvre le fichier Inputfile en lecture seule\n",
    "\n",
    "with open(Outputfilename, 'w') as output:\n",
    "    for line in Inputfile:\n",
    "        line=line.replace('|','\\t')         #remplacer ; par ,\n",
    "        output.write(line)\n",
    "output.close()"
   ]
  },
  {
   "cell_type": "code",
   "execution_count": null,
   "metadata": {},
   "outputs": [],
   "source": [
    "help(str)"
   ]
  },
  {
   "cell_type": "code",
   "execution_count": null,
   "metadata": {},
   "outputs": [],
   "source": [
    "\n",
    "outputfilename=\"smalllog.csv\"\n",
    "\n",
    "lineindex=0\n",
    "\n",
    "print\n",
    "print \"File concatenation with header removal\"\n",
    "print\n",
    "\n",
    "FichierOut=open(outputfilename,'w')\n",
    "\n",
    "\n",
    "print (\"entering datadir\")\n",
    "os.chdir(datadir)\n",
    "print\n",
    "print \"current working directory set to \", os.getcwd()\n",
    "print\n",
    "\n",
    "for fichier in os.listdir(os.getcwd()):\n",
    "\tprint \"Concatenation of \", fichier\n",
    "\twith open(fichier) as f:\n",
    "\t\tline=f.readline() #dump first line\n",
    "\t\tfor line in f:\n",
    "\t\t\tFichierOut.write(line)\n",
    "\t\t\tlineindex=lineindex+1\n",
    "FichierOut.close()\n",
    "\n",
    "print \"number of concatenated lines = \", lineindex\n",
    "print\n",
    "\n",
    "print \"returning to startdir\"\n",
    "print\n",
    "os.chdir(startdir)\n",
    "print \"current working directory set to \", os.getcwd()\n",
    "print\n",
    "\n",
    "endtime=time.time()\n",
    "print \"total duration (s) = \",endtime-starttime"
   ]
  }
 ],
 "metadata": {
  "anaconda-cloud": {},
  "kernelspec": {
   "display_name": "Python 2",
   "language": "python",
   "name": "python2"
  },
  "language_info": {
   "codemirror_mode": {
    "name": "ipython",
    "version": 2
   },
   "file_extension": ".py",
   "mimetype": "text/x-python",
   "name": "python",
   "nbconvert_exporter": "python",
   "pygments_lexer": "ipython2",
   "version": "2.7.13"
  }
 },
 "nbformat": 4,
 "nbformat_minor": 1
}
